{
 "cells": [
  {
   "cell_type": "markdown",
   "id": "833ee428-95f3-49bc-8930-3c1582429423",
   "metadata": {},
   "source": [
    "# Common variables"
   ]
  },
  {
   "cell_type": "code",
   "execution_count": 13,
   "id": "1a43226d-16a0-49c1-b961-1dc813da0fdf",
   "metadata": {},
   "outputs": [],
   "source": [
    "all_nucleotides = [\"a\", \"t\", \"g\", \"c\", \"u\"]\n",
    "dna_bases = [\"A\", \"C\", \"G\", \"T\"]\n",
    "codons = [a+b+c for a in dna_bases for b in dna_bases for c in dna_bases]\n",
    "amino_acids = 'FFLLSSSSYY**CC*WLLLLPPPPHHQQRRRRIIIMTTTTNNKKSSRRVVVVAAAADDEEGGGG'\n",
    "codon_table = dict(zip(codons, amino_acids))"
   ]
  },
  {
   "cell_type": "markdown",
   "id": "68893072-b6dd-4463-b9d7-f7cff5733eab",
   "metadata": {},
   "source": [
    "# Common functions linked to DN"
   ]
  },
  {
   "cell_type": "code",
   "execution_count": 8,
   "id": "585c4214-9b60-4918-9cb4-cda4169402e8",
   "metadata": {},
   "outputs": [],
   "source": [
    "# Count codons\n",
    "def count_codons(sequence:str, frame:int=0):\n",
    "    ''' \n",
    "    This function returns a dictionary with the different codons within a sequence and the number of their occurrence.\n",
    "    There is also the possibility to provide the reading frame in which to start, but then whatever comes before is not taken into account.\n",
    "    \n",
    "    '''\n",
    "    codons = {}\n",
    "    for i in range(frame, len(sequence), 3):\n",
    "        codon = sequence[i: i+3]\n",
    "        if codon in codons:\n",
    "            codons[codon] += 1\n",
    "        else:\n",
    "            codons[codon] = 1\n",
    "    return codons"
   ]
  },
  {
   "cell_type": "code",
   "execution_count": 17,
   "id": "936f5714-9890-4d22-87b1-e90da3c431f0",
   "metadata": {},
   "outputs": [],
   "source": [
    "# Translate sequence\n",
    "\n",
    "def translate_sequence(sequence: str, frame: int=0, start_at = \"\"):\n",
    "    '''\n",
    "    This function returns a string containing the translated amino acids to the sequence provided. The sequence can either be RNA or DNA. \n",
    "    However, this needs the codon_table variable!\n",
    "    If you want to find the ATG codon, just add find_start\n",
    "    \n",
    "    '''\n",
    "    \n",
    "    sequence = sequence.upper().replace(\"U\", \"T\")\n",
    "    start = 0\n",
    "    translated_sequence = \"\"\n",
    "    if len(start_at) > 0: \n",
    "        start = sequence.find(start_at.upper())\n",
    "    for j in range(start, len(sequence), 3):\n",
    "        codon = sequence[j:j+3]\n",
    "        if codon in codon_table:\n",
    "            translated_sequence += codon_table[codon]\n",
    "    return translated_sequence\n",
    "        \n",
    "        \n",
    "    "
   ]
  },
  {
   "cell_type": "markdown",
   "id": "1f39b159-1916-4225-b7e1-06da3ca5d024",
   "metadata": {},
   "source": [
    "### Random DNA generator"
   ]
  },
  {
   "cell_type": "code",
   "execution_count": 11,
   "id": "714acf4e-84de-44c0-9a7c-ae915e2e79c8",
   "metadata": {},
   "outputs": [],
   "source": [
    "def gen_random_dna(seq_length: int = 100, nucleotides:str=\"ATGC\", use_as_start: str = \"\"):\n",
    "    '''\n",
    "    This function generates a random string of DNA. You could also make it RNA by passing on the nucleotides you want as arguments. \n",
    "    You can also specify the sequence you want it to start with.\n",
    "    '''\n",
    "    import random as rd\n",
    "    sub_this = len(use_as_start)\n",
    "    sequence = use_as_start\n",
    "    for n in range(0,seq_length - sub_this):\n",
    "        nucleotide = rd.choice(nucleotides)\n",
    "        sequence += nucleotide\n",
    "    return sequence"
   ]
  },
  {
   "cell_type": "markdown",
   "id": "4aa78428-17f6-4474-869a-ebe5c70a3afa",
   "metadata": {},
   "source": [
    "\n",
    "# Assignment Challenge: Loops within dictionaries (Day 2)\n",
    "\n",
    "\"For this assignment, we're going to write a program that translates DNA sequences into protein sequences.\n",
    "\n",
    "Loop over the DNA sequence 'ACTGACTGACTGAATTCGACTG' in steps of 3 such that you get the codons.\n",
    "Translate each of these codons to their amino acids as defined in the dictionary codon_table defined below. Print the entire translated protein sequence.\n",
    "Did you take the reading frames into account? If not, get the codons for the other reading frames as well. Translate each reading frame into a protein sequence.\n",
    "Now translate all of the valid DNA sequences in the list seqs. Invalid sequences should not be translated.\"\"\n"
   ]
  },
  {
   "cell_type": "code",
   "execution_count": 4,
   "id": "f365b59f-a9bd-4017-a985-8d9977fe3c6a",
   "metadata": {},
   "outputs": [],
   "source": [
    "### make sure you understands what happens here and run this cell\n",
    "bases = ['T', 'C', 'A', 'G']\n",
    "codons = [a+b+c for a in bases for b in bases for c in bases]\n",
    "amino_acids = 'FFLLSSSSYY**CC*WLLLLPPPPHHQQRRRRIIIMTTTTNNKKSSRRVVVVAAAADDEEGGGG'\n",
    "codon_table = dict(zip(codons, amino_acids))\n",
    "### The zip creates a list of tuples between two types of containers that have the same amounts of entries\n"
   ]
  },
  {
   "cell_type": "code",
   "execution_count": null,
   "id": "65091d01-f0dc-49d0-b7b1-c2e1e020e0c4",
   "metadata": {},
   "outputs": [],
   "source": [
    "# Translate the following sequence while reading frames into account\n",
    "### If you want to make the code even better, you can combine the search codon logic with that of the next cell\n",
    "sequence='ACTGACTGACTGAATTCGACTG'\n",
    "frames = {}\n",
    "translated_sequences = {}\n",
    "\n",
    "for i in range(3):\n",
    "    cods = []\n",
    "    for j in range(i, len(sequence), 3):\n",
    "        cods.append(sequence[j:j+3])\n",
    "    print(cods)\n",
    "    frames[f'Reading frame {i}'] = cods\n",
    "\n",
    "print(frames)\n",
    "\n",
    "for k, frame in frames.items():\n",
    "    translation = \"\"\n",
    "    for codon in frame:\n",
    "        if codon in codon_table:\n",
    "            translation += codon_table[codon]\n",
    "    translated_sequences[k] = translation\n",
    "\n",
    "\n",
    "print(translated_sequences)"
   ]
  },
  {
   "cell_type": "code",
   "execution_count": null,
   "id": "b68439f1-aa1b-492f-a4de-22fa61ec3d30",
   "metadata": {},
   "outputs": [],
   "source": [
    "# Loop over the seqs and translate the valid DNA sequences\n",
    "seqs = ['actgactgactgaattcgactg','caucgaucgcgauacacgaucagcuacg','augcagacgacguacgu','atcgatcgatcgatcacgt','atcgtagctactagctagc','acgatcgtagctacgta','cgaucagucgaucgauccagcga','cguacguagcacaugcagucaguauacguacggacgacgac','catgactgactgatcgatgctgactgactg','atcggatctgaactgactg','actgactgactgactg','caucgaucgcgauacacgaucagcuacg','augcagacgacguacgu','atcgatcgaattcgatcgatcacgt','atcgtagctactagctagc','acgatcgaattcgtagctacgta','cgaucagucgaucgauccagcga','cguacguagcacaugcagucaguauacguacggacgacgac','catgactgactgatcgatgaattcgctgactgactg','aucggauccgaaccgacag']\n",
    "translated_seqs = []\n",
    "\n",
    "for seq in seqs:\n",
    "    seq = seq.upper()\n",
    "    seq = seq.replace(\"U\", \"T\")\n",
    "    translation = \"\"\n",
    "    for i in range(0, len(seq), 3):\n",
    "        cod = seq[i:i+3]\n",
    "        if cod in codon_table:\n",
    "            translation += codon_table[cod]\n",
    "    translated_seqs.append(translation)\n",
    "    print(translation)"
   ]
  },
  {
   "cell_type": "markdown",
   "id": "e220ec1f-a8d0-45d2-b772-68f4d033539f",
   "metadata": {},
   "source": [
    "\n",
    "# File Handling Good practices:\n",
    "\n",
    "You should close the file after doing everything"
   ]
  }
 ],
 "metadata": {
  "kernelspec": {
   "display_name": "Python 3 (ipykernel)",
   "language": "python",
   "name": "python3"
  },
  "language_info": {
   "codemirror_mode": {
    "name": "ipython",
    "version": 3
   },
   "file_extension": ".py",
   "mimetype": "text/x-python",
   "name": "python",
   "nbconvert_exporter": "python",
   "pygments_lexer": "ipython3",
   "version": "3.12.4"
  }
 },
 "nbformat": 4,
 "nbformat_minor": 5
}
