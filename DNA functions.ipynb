{
 "cells": [
  {
   "cell_type": "markdown",
   "id": "833ee428-95f3-49bc-8930-3c1582429423",
   "metadata": {},
   "source": [
    "# Common variables"
   ]
  },
  {
   "cell_type": "code",
   "execution_count": 13,
   "id": "1a43226d-16a0-49c1-b961-1dc813da0fdf",
   "metadata": {},
   "outputs": [],
   "source": [
    "all_nucleotides = [\"a\", \"t\", \"g\", \"c\", \"u\"]\n",
    "dna_bases = [\"A\", \"C\", \"G\", \"T\"]\n",
    "codons = [a+b+c for a in dna_bases for b in dna_bases for c in dna_bases]\n",
    "amino_acids = 'FFLLSSSSYY**CC*WLLLLPPPPHHQQRRRRIIIMTTTTNNKKSSRRVVVVAAAADDEEGGGG'\n",
    "codon_table = dict(zip(codons, amino_acids))"
   ]
  },
  {
   "cell_type": "markdown",
   "id": "68893072-b6dd-4463-b9d7-f7cff5733eab",
   "metadata": {},
   "source": [
    "## Common functions linked to DN"
   ]
  },
  {
   "cell_type": "markdown",
   "id": "cb49db27-6394-47c0-9a63-64826ee2d188",
   "metadata": {},
   "source": [
    "#### Count Codons"
   ]
  },
  {
   "cell_type": "code",
   "execution_count": 3,
   "id": "585c4214-9b60-4918-9cb4-cda4169402e8",
   "metadata": {},
   "outputs": [],
   "source": [
    "# Count codons\n",
    "def count_codons(sequence:str, frame:int=0, num_nucleotide: int=3):\n",
    "    ''' \n",
    "    This function returns a dictionary with the different codons within a sequence and the number of their occurrence.\n",
    "    There is also the possibility to provide the reading frame in which to start, but then whatever comes before is not taken into account.\n",
    "    Also can specify how many nucleotides per codon (default 3)\n",
    "    \n",
    "    '''\n",
    "    codons = {}\n",
    "    for i in range(frame, len(sequence), num_nucleotide):\n",
    "        codon = sequence[i: i+num_nucleotide]\n",
    "        if codon in codons:\n",
    "            codons[codon] += 1\n",
    "        else:\n",
    "            codons[codon] = 1\n",
    "    return codons"
   ]
  },
  {
   "cell_type": "markdown",
   "id": "b454863b-0045-4d4a-a149-62f47f8c575d",
   "metadata": {},
   "source": [
    "#### Translate sequence"
   ]
  },
  {
   "cell_type": "code",
   "execution_count": 5,
   "id": "936f5714-9890-4d22-87b1-e90da3c431f0",
   "metadata": {},
   "outputs": [],
   "source": [
    "# Translate sequence\n",
    "\n",
    "def translate_sequence(sequence: str, frame: int=0, start_at = \"\"):\n",
    "    '''\n",
    "    This function returns a string containing the translated amino acids to the sequence provided. The sequence can either be RNA or DNA. \n",
    "    However, this needs the codon_table variable!\n",
    "    If you want to find the ATG codon, just add find_start\n",
    "    \n",
    "    '''\n",
    "    # Generates the translation dictionary\n",
    "    dna_bases = [\"A\", \"C\", \"G\", \"T\"]\n",
    "    codons = [a+b+c for a in dna_bases for b in dna_bases for c in dna_bases]\n",
    "    amino_acids = 'FFLLSSSSYY**CC*WLLLLPPPPHHQQRRRRIIIMTTTTNNKKSSRRVVVVAAAADDEEGGGG'\n",
    "    codon_table = dict(zip(codons, amino_acids))\n",
    "    \n",
    "    # Actual code\n",
    "    sequence = sequence.upper().replace(\"U\", \"T\")\n",
    "    start = 0\n",
    "    translated_sequence = \"\"\n",
    "    if len(start_at) > 0: \n",
    "        start = sequence.find(start_at.upper())\n",
    "    for j in range(start, len(sequence), 3):\n",
    "        codon = sequence[j:j+3]\n",
    "        if codon in codon_table:\n",
    "            translated_sequence += codon_table[codon]\n",
    "    return translated_sequence\n",
    "\n",
    "\n",
    "    "
   ]
  },
  {
   "cell_type": "markdown",
   "id": "1f39b159-1916-4225-b7e1-06da3ca5d024",
   "metadata": {},
   "source": [
    "#### Random DNA generator"
   ]
  },
  {
   "cell_type": "code",
   "execution_count": 11,
   "id": "714acf4e-84de-44c0-9a7c-ae915e2e79c8",
   "metadata": {},
   "outputs": [],
   "source": [
    "def gen_random_dna(seq_length: int = 100, nucleotides:str=\"ATGC\", use_as_start: str = \"\"):\n",
    "    '''\n",
    "    This function generates a random string of DNA. You could also make it RNA by passing on the nucleotides you want as arguments. \n",
    "    You can also specify the sequence you want it to start with.\n",
    "    '''\n",
    "    import random as rd\n",
    "    sub_this = len(use_as_start)\n",
    "    sequence = use_as_start\n",
    "    for n in range(0,seq_length - sub_this):\n",
    "        nucleotide = rd.choice(nucleotides)\n",
    "        sequence += nucleotide\n",
    "    return sequence"
   ]
  },
  {
   "cell_type": "markdown",
   "id": "33c9c9c0-5d0c-466b-8e16-302f07d7b5f1",
   "metadata": {},
   "source": [
    "## Common functions linked to File handling"
   ]
  },
  {
   "cell_type": "markdown",
   "id": "e745b8ef-945d-4f1d-84ed-e7f6eb826371",
   "metadata": {},
   "source": [
    "#### Open and sort .FASTA file "
   ]
  },
  {
   "cell_type": "code",
   "execution_count": null,
   "id": "4fa12c58-18d2-4c09-8b45-6c7fe741d253",
   "metadata": {},
   "outputs": [],
   "source": []
  },
  {
   "cell_type": "markdown",
   "id": "e6f8b0ec-cd23-45b9-a4ae-4110317a0546",
   "metadata": {},
   "source": [
    "## MatPlotLib stuff"
   ]
  },
  {
   "metadata": {},
   "cell_type": "markdown",
   "source": [
    "#### Info\n",
    "MatPlotLib is a very powerful plotting program. Below are some things to take into account when making your plots.\n",
    "Watch out, the MatPlotLib cheat sheet uses the module numpy to generate random data. We are not allowed to use numpy!"
   ],
   "id": "a978772c2ea51a31"
  },
  {
   "metadata": {},
   "cell_type": "markdown",
   "source": "#### Plot types",
   "id": "87f5adef2208225"
  },
  {
   "cell_type": "code",
   "execution_count": null,
   "id": "9a8163bf-2500-4def-baa0-23dcb2d68d02",
   "metadata": {},
   "outputs": [],
   "source": [
    "import matplotlib as plt\n",
    "import matplotlib.pyplot as plt\n",
    "# line plot\n",
    "plt.plot([x],[y])\n",
    "# scatter (useful, but not in the exercises\n",
    "plt.scatter([x],[y])\n",
    "# bar\n",
    "plt.bar([x],[height])\n",
    "# histogram\n",
    "plt.hist([x],binsize) #if x is a list of lists, multiple histograms will be shown in one plot (one for each list)\n"
   ]
  },
  {
   "metadata": {},
   "cell_type": "markdown",
   "source": "#### Extra stuff",
   "id": "de1d1677741a70f6"
  },
  {
   "metadata": {},
   "cell_type": "code",
   "outputs": [],
   "execution_count": null,
   "source": [
    "# Make your plots fancy with the following:\n",
    "plt.title('Title') \n",
    "plt.ylabel('Y')\n",
    "plt.xlabel('X')\n",
    "plt.legend([\"1\",\"2\",\"3\"])\n",
    "plt.xticks([1, 2, 3, 4], [\"A\", \"C\", \"G\", \"T\"]) # change the name of the ticks on the x axis, see next cell for a different way to do this"
   ],
   "id": "89a003fb5b86a305"
  },
  {
   "metadata": {},
   "cell_type": "code",
   "outputs": [],
   "execution_count": null,
   "source": [
    "# extra variables within the plotting commands\n",
    "# the following two are the same:\n",
    "plt.plot(x, y, 'go--', linewidth=2, markersize=12)\n",
    "plt.plot(x, y, color='green', marker='o', linestyle='dashed',\n",
    "     linewidth=2, markersize=12)\n",
    "# add labels to your lines\n",
    "plt.plot([x],[y], label = \"plot\")\n",
    "# change tick names immediately\n",
    "plt.plot([x],[y], tick_label = [\"A\", \"C\", \"G\", \"T\"])"
   ],
   "id": "232fa28b77abb7ee"
  },
  {
   "metadata": {},
   "cell_type": "code",
   "outputs": [],
   "execution_count": null,
   "source": [
    "# make a bar plot with two sets of data\n",
    "plt.bar([1,3,5,7], data1, align = 'edge', width = -0.8)\n",
    "plt.bar([1,3,5,7], data2, align = 'edge')\n",
    "plt.show()"
   ],
   "id": "3136aa4653054ea7"
  },
  {
   "cell_type": "markdown",
   "id": "9b1e1b57-e47b-47d7-b524-8a6fcca17012",
   "metadata": {},
   "source": [
    "## RegEx stuff and explanation/examples"
   ]
  },
  {
   "cell_type": "markdown",
   "id": "e5360bf0-fefa-49c5-b161-893393d554f2",
   "metadata": {},
   "source": [
    "#### Info\n",
    "\n",
    "Much is already on the regex cheat sheet, so here are just some extra notes.\n",
    "Useful in big files for \"stuff which starts with\" or \"ends with\" or finding the stop codon."
   ]
  },
  {
   "metadata": {},
   "cell_type": "markdown",
   "source": "#### Not on the cheat sheet",
   "id": "55ee719e890e122f"
  },
  {
   "metadata": {
    "ExecuteTime": {
     "end_time": "2024-09-23T14:50:25.493499Z",
     "start_time": "2024-09-23T14:50:25.489338Z"
    }
   },
   "cell_type": "code",
   "source": [
    "import re\n",
    "# \"$\" is to be placed after the character at the end\n",
    "end = \"ACG$\" #not \"$ACG\"\n",
    "\n",
    "# groups are referred to as \\g<n>. This will result in an error message, but also the correct string\n",
    "ex1 = \"ATCGCC\"\n",
    "ex1_subbed = re.sub(\"(AT)(C)(G)\", \"\\g<2>\", ex1) # this only keeps group 2, resulting in the string CCC\n",
    "\n",
    "# re.findall(pattern, string) is used to make a list of all strings that match\n",
    "# re.search(pattern, string) returns the position of the first instance of that string\n",
    "    # re.search.group -> prints the pattern that was found\n",
    "    # re.search.start -> prints the index of the first char of the pattern\n",
    "    # re.search.end -> prints the index of the first char after the pattern\n",
    "    # re.search.span -> prints a tuple of (start, end)\n",
    "# re.sub(pattern to replace, what to replace it with, string) finds and replaces parts of a string\n",
    "# re.split(pattern, string) splits the string into a list, removing the pattern\n",
    "    # grouping of the pattern retains it as an item on the list (a separate item for each group)"
   ],
   "id": "219d33b17c0ad328",
   "outputs": [
    {
     "name": "stdout",
     "output_type": "stream",
     "text": [
      "CCC\n"
     ]
    },
    {
     "name": "stderr",
     "output_type": "stream",
     "text": [
      "<>:7: SyntaxWarning: invalid escape sequence '\\g'\n",
      "<>:7: SyntaxWarning: invalid escape sequence '\\g'\n",
      "/tmp/ipykernel_10151/1078260731.py:7: SyntaxWarning: invalid escape sequence '\\g'\n",
      "  ex1_subbed = re.sub(\"(AT)(C)(G)\", \"\\g<2>\", ex1)\n"
     ]
    }
   ],
   "execution_count": 19
  },
  {
   "metadata": {},
   "cell_type": "markdown",
   "source": "#### Stop codon search",
   "id": "49cc898dda88afe6"
  },
  {
   "metadata": {
    "ExecuteTime": {
     "end_time": "2024-09-23T14:53:49.790567Z",
     "start_time": "2024-09-23T14:53:49.786831Z"
    }
   },
   "cell_type": "code",
   "source": [
    "# for finding a stop codon at the end of the sequence\n",
    "# remove $ to find all stop codons, remove bool() to display them\n",
    "\n",
    "import re\n",
    "sequence= \"ATGCAATCATATGCTTCTGCTAGGTTAA\"\n",
    "stop_codon = \"T(AA|AG|GA)$\" # the stop codons are TAA, TAG and TGA\n",
    "print(bool(re.search(stop_codon, sequence))) # prints True or False, based on if the last three letters form a stop codon or not"
   ],
   "id": "7bec04b7a3a9bfb4",
   "outputs": [
    {
     "name": "stdout",
     "output_type": "stream",
     "text": [
      "True\n"
     ]
    }
   ],
   "execution_count": 20
  },
  {
   "metadata": {},
   "cell_type": "markdown",
   "source": "#### Two restriction enzymes",
   "id": "646da897bb026bc"
  },
  {
   "metadata": {},
   "cell_type": "code",
   "outputs": [],
   "execution_count": null,
   "source": [
    "# for using two restriction enzymes in tandem, and printing the resulting fragments and their length\n",
    "# provide your own dna\n",
    "import re\n",
    "\n",
    "bamh1 = \"(G)(GATCC)\"\n",
    "acc1 = \"(GT)([AC][GT]AC)\"\n",
    "cut1 = re.sub(bamh1, \"\\g<1>\\n\\g<2>\", dna) #provide your own dna\n",
    "cut2 = re.sub(acc1, \"\\g<1>\\n\\g<2>\", cut1)\n",
    "end_result = re.split(\"\\\\n\", cut2)\n",
    "print(\"Number of fragments:\", len(end_result))\n",
    "for seq in end_result:\n",
    "    print(\"Sequence:\", seq,\"\\nLength:\", len(seq))"
   ],
   "id": "c04f2dbcf2544cf3"
  },
  {
   "metadata": {},
   "cell_type": "code",
   "outputs": [],
   "execution_count": null,
   "source": [
    "# this is the example Basten Snoek gives for groups in groups, so do not copy this directly!\n",
    "import re\n",
    "# put the pattern of the enzyme that is cutting first first, to make sure none of its cut sites are first cut by the second enzyme\n",
    "dna_digest = re.sub(\"((G)(GATCC))|((GT)([AC][GT]AC))\",\"\\g<2>\\g<5>s\\g<3>\\g<6>\",dna)\n",
    "split_output = re.split(\"s\",dna_digest) # Basten chooses to place an s, whereas I used a \\n in the example above. Anything works, since you remove it when splitting anyway\n",
    "print (split_output)\n",
    "print (len(split_output))\n",
    "items = {}\n",
    "for item in split_output:\n",
    "    #print (len(item))\n",
    "    items[item] = len(item)\n",
    "\n",
    "print (items)"
   ],
   "id": "5dfa3ffed051ddda"
  },
  {
   "cell_type": "markdown",
   "id": "4aa78428-17f6-4474-869a-ebe5c70a3afa",
   "metadata": {},
   "source": [
    "\n",
    "# Assignment Challenge: Loops within dictionaries (Day 2)\n",
    "\n",
    "\"For this assignment, we're going to write a program that translates DNA sequences into protein sequences.\n",
    "\n",
    "Loop over the DNA sequence 'ACTGACTGACTGAATTCGACTG' in steps of 3 such that you get the codons.\n",
    "Translate each of these codons to their amino acids as defined in the dictionary codon_table defined below. Print the entire translated protein sequence.\n",
    "Did you take the reading frames into account? If not, get the codons for the other reading frames as well. Translate each reading frame into a protein sequence.\n",
    "Now translate all of the valid DNA sequences in the list seqs. Invalid sequences should not be translated.\"\"\n"
   ]
  },
  {
   "cell_type": "code",
   "execution_count": 4,
   "id": "f365b59f-a9bd-4017-a985-8d9977fe3c6a",
   "metadata": {},
   "outputs": [],
   "source": [
    "### make sure you understands what happens here and run this cell\n",
    "bases = ['T', 'C', 'A', 'G']\n",
    "codons = [a+b+c for a in bases for b in bases for c in bases]\n",
    "amino_acids = 'FFLLSSSSYY**CC*WLLLLPPPPHHQQRRRRIIIMTTTTNNKKSSRRVVVVAAAADDEEGGGG'\n",
    "codon_table = dict(zip(codons, amino_acids))\n",
    "### The zip creates a list of tuples between two types of containers that have the same amounts of entries\n"
   ]
  },
  {
   "cell_type": "code",
   "execution_count": null,
   "id": "65091d01-f0dc-49d0-b7b1-c2e1e020e0c4",
   "metadata": {},
   "outputs": [],
   "source": [
    "# Translate the following sequence while reading frames into account\n",
    "### If you want to make the code even better, you can combine the search codon logic with that of the next cell\n",
    "sequence='ACTGACTGACTGAATTCGACTG'\n",
    "frames = {}\n",
    "translated_sequences = {}\n",
    "\n",
    "for i in range(3):\n",
    "    cods = []\n",
    "    for j in range(i, len(sequence), 3):\n",
    "        cods.append(sequence[j:j+3])\n",
    "    print(cods)\n",
    "    frames[f'Reading frame {i}'] = cods\n",
    "\n",
    "print(frames)\n",
    "\n",
    "for k, frame in frames.items():\n",
    "    translation = \"\"\n",
    "    for codon in frame:\n",
    "        if codon in codon_table:\n",
    "            translation += codon_table[codon]\n",
    "    translated_sequences[k] = translation\n",
    "\n",
    "\n",
    "print(translated_sequences)"
   ]
  },
  {
   "cell_type": "code",
   "execution_count": null,
   "id": "b68439f1-aa1b-492f-a4de-22fa61ec3d30",
   "metadata": {},
   "outputs": [],
   "source": [
    "# Loop over the seqs and translate the valid DNA sequences\n",
    "seqs = ['actgactgactgaattcgactg','caucgaucgcgauacacgaucagcuacg','augcagacgacguacgu','atcgatcgatcgatcacgt','atcgtagctactagctagc','acgatcgtagctacgta','cgaucagucgaucgauccagcga','cguacguagcacaugcagucaguauacguacggacgacgac','catgactgactgatcgatgctgactgactg','atcggatctgaactgactg','actgactgactgactg','caucgaucgcgauacacgaucagcuacg','augcagacgacguacgu','atcgatcgaattcgatcgatcacgt','atcgtagctactagctagc','acgatcgaattcgtagctacgta','cgaucagucgaucgauccagcga','cguacguagcacaugcagucaguauacguacggacgacgac','catgactgactgatcgatgaattcgctgactgactg','aucggauccgaaccgacag']\n",
    "translated_seqs = []\n",
    "\n",
    "for seq in seqs:\n",
    "    seq = seq.upper()\n",
    "    seq = seq.replace(\"U\", \"T\")\n",
    "    translation = \"\"\n",
    "    for i in range(0, len(seq), 3):\n",
    "        cod = seq[i:i+3]\n",
    "        if cod in codon_table:\n",
    "            translation += codon_table[cod]\n",
    "    translated_seqs.append(translation)\n",
    "    print(translation)"
   ]
  },
  {
   "cell_type": "markdown",
   "id": "e220ec1f-a8d0-45d2-b772-68f4d033539f",
   "metadata": {},
   "source": [
    "\n",
    "# File Handling Good practices:\n",
    "\n",
    "You should close the file after doing everything"
   ]
  }
 ],
 "metadata": {
  "kernelspec": {
   "display_name": "Python 3 (ipykernel)",
   "language": "python",
   "name": "python3"
  },
  "language_info": {
   "codemirror_mode": {
    "name": "ipython",
    "version": 3
   },
   "file_extension": ".py",
   "mimetype": "text/x-python",
   "name": "python",
   "nbconvert_exporter": "python",
   "pygments_lexer": "ipython3",
   "version": "3.12.4"
  }
 },
 "nbformat": 4,
 "nbformat_minor": 5
}
